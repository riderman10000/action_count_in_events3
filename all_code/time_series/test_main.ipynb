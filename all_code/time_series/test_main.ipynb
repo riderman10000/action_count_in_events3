{
 "cells": [
  {
   "cell_type": "markdown",
   "metadata": {},
   "source": [
    "Packages"
   ]
  },
  {
   "cell_type": "code",
   "execution_count": 1,
   "metadata": {},
   "outputs": [],
   "source": [
    "import os \n",
    "import cv2 \n",
    "import matplotlib.pyplot as plt \n",
    "from matplotlib.font_manager import FontProperties\n",
    "import numpy as np \n",
    "import pandas as pd \n",
    "import scipy.spatial.distance as dist \n",
    "from scipy.stats import kurtosis, skew \n",
    "from pylab import mpl \n",
    "import pymannkendall as mk \n",
    "import statsmodels.api as sm \n",
    "from fastdtw import fastdtw \n",
    "from sklearn.decomposition import PCA \n",
    "\n",
    "# set font \n",
    "mpl.rcParams['font.sans-serif'] = [\"SimHei\"]\n",
    "# solve the problem of negative sign display \n",
    "plt.rcParams['axes.unicode_minus'] = False \n",
    "# set the width of the coordinate axis \n",
    "plt.rcParams['axes.linewidth'] = 2"
   ]
  },
  {
   "cell_type": "code",
   "execution_count": null,
   "metadata": {},
   "outputs": [],
   "source": []
  },
  {
   "cell_type": "code",
   "execution_count": 2,
   "metadata": {},
   "outputs": [],
   "source": [
    "# variables\n",
    "# get natural data file name \n",
    "file_names = os.listdir(\"../../event_csv/split_data/class2/\")\n",
    "# get artificial data file name \n",
    "files = os.listdir('../../event_csv/split_data/artificial/')\n",
    "\n",
    "# true data of the original data \n",
    "nature_real_count = np.load('../npy_file/nature_data_real_count.npy')\n",
    "# artificial data real count tag \n",
    "artificial_real_count = np.load('../npy_file/artificial_data_real_count.npy')\n",
    "\n",
    "# repnet network's predicitve label on original data \n",
    "repnet_nature_pred_count = np.load('../npy_file/repnet_nature_data_real_count.npy')\n",
    "# repnet network's prediction label on artificial syntheic data \n",
    "repnet_artificial_pred_count = np.load('../npy_file/repnet_artificial_data_real_count.npy')\n"
   ]
  },
  {
   "cell_type": "code",
   "execution_count": 3,
   "metadata": {},
   "outputs": [],
   "source": [
    "import sys \n",
    "import os \n",
    "# os.getcwd()\n",
    "sys.path.append('../') # going a step back so the importer can find the following module\n",
    "from time_series_scripts import artificial_data_compose "
   ]
  },
  {
   "cell_type": "markdown",
   "metadata": {},
   "source": [
    "# 0 - Artificial synthesis data"
   ]
  },
  {
   "cell_type": "markdown",
   "metadata": {},
   "source": [
    "## 0 - 1 - Synthetic synthesis"
   ]
  },
  {
   "cell_type": "code",
   "execution_count": 4,
   "metadata": {},
   "outputs": [],
   "source": [
    "# A action synthesis repeat number \n",
    "# a_repeat_times = [3, 7, 12, 17]\n",
    "# for i in a_repeat_times:\n",
    "#     artificial_data_compose.get_same(file_name='a', repeat_times=i)\n",
    "\n",
    "# # B action synthesis repeat number \n",
    "# b_repeat_times = [3, 7, 13, 18]\n",
    "# for i in b_repeat_times:\n",
    "#     artificial_data_compose.get_same(file_name='b', repeat_times=i)"
   ]
  },
  {
   "cell_type": "markdown",
   "metadata": {},
   "source": [
    "## 0 - 2 - front and rear action stitching "
   ]
  },
  {
   "cell_type": "code",
   "execution_count": 5,
   "metadata": {},
   "outputs": [],
   "source": [
    "# A action stitching 3 times and then stitching B action 7 times \n",
    "# artificial_data_compose.get_front_or_tail(repeat_times_A=3, repeat_times_B=7)\n",
    "\n",
    "# A action stitching 3 times and then stitching B action 7 times \n",
    "# artificial_data_compose.get_front_or_tail(repeat_times_A=3, repeat_times_B=13)\n",
    "\n",
    "# A action stitching 3 times and then stitching B action 7 times \n",
    "# artificial_data_compose.get_front_or_tail(repeat_times_A=3, repeat_times_B=18)"
   ]
  },
  {
   "cell_type": "markdown",
   "metadata": {},
   "source": [
    "## 0 - 3 - before the middle and rear action stitching"
   ]
  },
  {
   "cell_type": "code",
   "execution_count": 6,
   "metadata": {},
   "outputs": [],
   "source": [
    "# # on both sides are A action, the middle is B action\n",
    "# artificial_data_compose.get_mid(repeat_times_A=3, repeat_times_B=13, flag=True)\n",
    "# artificial_data_compose.get_mid(repeat_times_A=3, repeat_times_B=18, flag=True)\n",
    "# artificial_data_compose.get_mid(repeat_times_A=1, repeat_times_B=7, flag=True)\n",
    "\n",
    "# Flag is false on behalf of A action to be sandwiched in the middle\n",
    "# artificial_data_compose.get_mid(repeat_times_A=3, repeat_times_B=13, flag=False)\n",
    "# artificial_data_compose.get_mid(repeat_times_A=3, repeat_times_B=18, flag=False)\n",
    "# artificial_data_compose.get_mid(repeat_times_A=1, repeat_times_B=7, flag=False)"
   ]
  },
  {
   "cell_type": "markdown",
   "metadata": {},
   "source": [
    "## 0 - 4 - Artificial data synthesis video "
   ]
  },
  {
   "cell_type": "code",
   "execution_count": 7,
   "metadata": {},
   "outputs": [],
   "source": [
    "# # store with 2,000 incident points as a picture \n",
    "# from time_series_scripts import csv_to_video\n",
    "# for name in files:\n",
    "#     csv_to_video.event_to_pic(name[:-4])\n",
    "# # switch the picture into a video with a frame rate of 15\n",
    "# for name in files:\n",
    "    # csv_to_video.pic_to_video(f'../../video/artificial/{name[:-4]}/',f'../../video/artificial_video/{name[:-4]}.mp4')"
   ]
  },
  {
   "cell_type": "markdown",
   "metadata": {},
   "source": [
    "# 1 - Event data processing"
   ]
  },
  {
   "cell_type": "code",
   "execution_count": 8,
   "metadata": {},
   "outputs": [],
   "source": [
    "from time_series_scripts import data_compress\n",
    "## 1 - 1 - natural data processing\n",
    "# for i in range(2, 8):\n",
    "#     if i == 3:\n",
    "#         continue \n",
    "#     for name in files_name:\n",
    "#         data_compress.distance_mean_meanline(name, class_num=i)"
   ]
  },
  {
   "cell_type": "code",
   "execution_count": 9,
   "metadata": {},
   "outputs": [],
   "source": [
    "# manual data processing \n",
    "# for name in files:\n",
    "#     data_compress.distance_mean_meanline(name, class_num=-1, nature_flag=False)"
   ]
  },
  {
   "cell_type": "markdown",
   "metadata": {},
   "source": [
    "# 2 - Get Statistical counting results"
   ]
  },
  {
   "cell_type": "code",
   "execution_count": 10,
   "metadata": {},
   "outputs": [
    {
     "name": "stdout",
     "output_type": "stream",
     "text": [
      "The file name is user02_lab.csv middle class_num=2 the number of repetitions of the action is:13\n",
      "The file name is user02_natural.csv middle class_num=2 the number of repetitions of the action is:12\n",
      "The file name is user02_fluorescent.csv middle class_num=2 the number of repetitions of the action is:15\n",
      "The file name is user02_led.csv middle class_num=2 the number of repetitions of the action is:12\n",
      "The file name is user02_fluorescent_led.csv middle class_num=2 the number of repetitions of the action is:13\n",
      "-----------------\n",
      "-----------------\n",
      "The file name is user02_lab.csv middle class_num=4 the number of repetitions of the action is:10\n",
      "The file name is user02_natural.csv middle class_num=4 the number of repetitions of the action is:11\n",
      "The file name is user02_fluorescent.csv middle class_num=4 the number of repetitions of the action is:9\n",
      "The file name is user02_led.csv middle class_num=4 the number of repetitions of the action is:8\n",
      "The file name is user02_fluorescent_led.csv middle class_num=4 the number of repetitions of the action is:9\n",
      "-----------------\n",
      "The file name is user02_lab.csv middle class_num=5 the number of repetitions of the action is:9\n",
      "The file name is user02_natural.csv middle class_num=5 the number of repetitions of the action is:9\n",
      "The file name is user02_fluorescent.csv middle class_num=5 the number of repetitions of the action is:10\n",
      "The file name is user02_led.csv middle class_num=5 the number of repetitions of the action is:8\n",
      "The file name is user02_fluorescent_led.csv middle class_num=5 the number of repetitions of the action is:7\n",
      "-----------------\n",
      "The file name is user02_lab.csv middle class_num=6 the number of repetitions of the action is:10\n",
      "The file name is user02_natural.csv middle class_num=6 the number of repetitions of the action is:9\n",
      "The file name is user02_fluorescent.csv middle class_num=6 the number of repetitions of the action is:10\n",
      "The file name is user02_led.csv middle class_num=6 the number of repetitions of the action is:8\n",
      "The file name is user02_fluorescent_led.csv middle class_num=6 the number of repetitions of the action is:8\n",
      "-----------------\n",
      "The file name is user02_lab.csv middle class_num=7 the number of repetitions of the action is:9\n",
      "The file name is user02_natural.csv middle class_num=7 the number of repetitions of the action is:9\n",
      "The file name is user02_fluorescent.csv middle class_num=7 the number of repetitions of the action is:7\n",
      "The file name is user02_led.csv middle class_num=7 the number of repetitions of the action is:8\n",
      "The file name is user02_fluorescent_led.csv middle class_num=7 the number of repetitions of the action is:7\n",
      "-----------------\n"
     ]
    }
   ],
   "source": [
    "# get the number of natural data cycle prediction values \n",
    "from time_series_scripts import cycle_count\n",
    "\n",
    "pred_count = cycle_count.get_all_count(file_names)"
   ]
  },
  {
   "cell_type": "code",
   "execution_count": 11,
   "metadata": {},
   "outputs": [
    {
     "name": "stdout",
     "output_type": "stream",
     "text": [
      "The file name is a3_b7.csv the number of repetitions of the action is:7\n",
      "The file name is b18.csv the number of repetitions of the action is:18\n",
      "The file name is a.csv the number of repetitions of the action is:1\n",
      "The file name is a17.csv the number of repetitions of the action is:16\n",
      "The file name is b7.csv the number of repetitions of the action is:7\n",
      "The file name is b3_a17_b3.csv the number of repetitions of the action is:22\n",
      "The file name is b13_a3.csv the number of repetitions of the action is:13\n",
      "The file name is b.csv the number of repetitions of the action is:1\n",
      "The file name is b3_a12_b3.csv the number of repetitions of the action is:12\n",
      "The file name is b18_a3.csv the number of repetitions of the action is:18\n",
      "The file name is a3_b18.csv the number of repetitions of the action is:21\n",
      "The file name is a_b7_a.csv the number of repetitions of the action is:6\n",
      "The file name is b7_a3.csv the number of repetitions of the action is:7\n",
      "The file name is a3_b13.csv the number of repetitions of the action is:16\n",
      "The file name is a3.csv the number of repetitions of the action is:2\n",
      "The file name is a12.csv the number of repetitions of the action is:11\n",
      "The file name is b13.csv the number of repetitions of the action is:13\n",
      "The file name is b_a7_b.csv the number of repetitions of the action is:6\n",
      "The file name is a3_b18_a3.csv the number of repetitions of the action is:18\n",
      "The file name is a7.csv the number of repetitions of the action is:6\n",
      "The file name is a3_b13_a3.csv the number of repetitions of the action is:13\n",
      "The file name is b3.csv the number of repetitions of the action is:3\n"
     ]
    }
   ],
   "source": [
    "# obtain artificial synthetic data cycle prediction value \n",
    "pred_count_artificial = cycle_count.get_all_count(files, nature_flag=False)"
   ]
  },
  {
   "cell_type": "code",
   "execution_count": 22,
   "metadata": {},
   "outputs": [
    {
     "ename": "AttributeError",
     "evalue": "module 'time_series_scripts.cycle_count' has no attribute 'print_artificial_MAE_OBO'",
     "output_type": "error",
     "traceback": [
      "\u001b[0;31m---------------------------------------------------------------------------\u001b[0m",
      "\u001b[0;31mAttributeError\u001b[0m                            Traceback (most recent call last)",
      "Cell \u001b[0;32mIn[22], line 1\u001b[0m\n\u001b[0;32m----> 1\u001b[0m \u001b[43mcycle_count\u001b[49m\u001b[38;5;241;43m.\u001b[39;49m\u001b[43mprint_artificial_MAE_OBO\u001b[49m(files, artificial_real_count, pred_count_artificial, repnet_artificial_pred_count)\n",
      "\u001b[0;31mAttributeError\u001b[0m: module 'time_series_scripts.cycle_count' has no attribute 'print_artificial_MAE_OBO'"
     ]
    }
   ],
   "source": [
    "cycle_count.print_artificial_MAE_OBO(files, artificial_real_count, pred_count_artificial, repnet_artificial_pred_count)"
   ]
  },
  {
   "cell_type": "code",
   "execution_count": null,
   "metadata": {},
   "outputs": [],
   "source": []
  },
  {
   "cell_type": "code",
   "execution_count": null,
   "metadata": {},
   "outputs": [],
   "source": []
  }
 ],
 "metadata": {
  "kernelspec": {
   "display_name": "Python 3",
   "language": "python",
   "name": "python3"
  },
  "language_info": {
   "codemirror_mode": {
    "name": "ipython",
    "version": 3
   },
   "file_extension": ".py",
   "mimetype": "text/x-python",
   "name": "python",
   "nbconvert_exporter": "python",
   "pygments_lexer": "ipython3",
   "version": "3.10.6"
  }
 },
 "nbformat": 4,
 "nbformat_minor": 2
}
