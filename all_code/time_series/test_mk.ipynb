{
 "cells": [
  {
   "cell_type": "code",
   "execution_count": 25,
   "metadata": {},
   "outputs": [],
   "source": [
    "import os \n",
    "import numpy as np \n",
    "import pandas as pd \n",
    "import pymannkendall as mk "
   ]
  },
  {
   "cell_type": "code",
   "execution_count": 26,
   "metadata": {},
   "outputs": [],
   "source": [
    "class_num = 2 \n",
    "file_names = os.listdir(\"../../event_csv/split_data/class2/\")\n",
    "file_name = file_names[0]\n",
    "file_path = f'../../event_csv/compress_event_manhattan/class{class_num}/smooth_by_pca/compress_by_mean/{file_name}'"
   ]
  },
  {
   "cell_type": "code",
   "execution_count": 27,
   "metadata": {},
   "outputs": [],
   "source": [
    "pca_data = pd.read_csv(file_path)['value']"
   ]
  },
  {
   "cell_type": "code",
   "execution_count": 51,
   "metadata": {},
   "outputs": [
    {
     "data": {
      "text/plain": [
       "(pandas.core.series.Series, (554,))"
      ]
     },
     "execution_count": 51,
     "metadata": {},
     "output_type": "execute_result"
    }
   ],
   "source": [
    "data  = pca_data.copy() \n",
    "type(data), data.shape"
   ]
  },
  {
   "cell_type": "code",
   "execution_count": 52,
   "metadata": {},
   "outputs": [],
   "source": [
    "win_size = 10 \n",
    "step = 5 \n",
    "first = np.inf \n",
    "second = -np.inf \n",
    "flag = True  \n",
    "final_win_change = None "
   ]
  },
  {
   "cell_type": "code",
   "execution_count": 53,
   "metadata": {},
   "outputs": [],
   "source": [
    "win_sum = int(\n",
    "    1 + (data.shape[0]-win_size)/step \n",
    "    if data.shape[0] > win_size \n",
    "    else 0\n",
    "    )"
   ]
  },
  {
   "cell_type": "code",
   "execution_count": 54,
   "metadata": {},
   "outputs": [],
   "source": [
    "win_start_index = np.arange(0,win_sum*step,step=step)\n",
    "# Mutation pane index [Later processing as an intermediate index in the middle pane]\n",
    "win_change = np.array([])\n",
    "# Current window trend [Increasing, Decreasing, No Trend]\n",
    "win_trend = np.array([])\n",
    "\n",
    "win_data = data[win_start_index[0]:win_start_index[0]+win_size]"
   ]
  },
  {
   "cell_type": "code",
   "execution_count": 55,
   "metadata": {},
   "outputs": [],
   "source": [
    "# Traverson all pane\n",
    "for i in range(win_sum):\n",
    "    # Pane data\n",
    "    win_data = data[win_start_index[i]:win_start_index[i]+win_size]\n",
    "    # Add the current window trend\n",
    "    win_trend = np.append(win_trend,mk.original_test(win_data)[0]) "
   ]
  },
  {
   "cell_type": "code",
   "execution_count": 56,
   "metadata": {},
   "outputs": [
    {
     "data": {
      "text/plain": [
       "((10,), (109,), 109)"
      ]
     },
     "execution_count": 56,
     "metadata": {},
     "output_type": "execute_result"
    }
   ],
   "source": [
    "win_data.shape, win_trend.shape, win_sum"
   ]
  },
  {
   "cell_type": "code",
   "execution_count": 57,
   "metadata": {},
   "outputs": [
    {
     "data": {
      "text/plain": [
       "(540    8.734008\n",
       " 541    6.057962\n",
       " 542    5.530768\n",
       " 543    5.138926\n",
       " 544    4.078489\n",
       " 545    2.781117\n",
       " 546    3.518813\n",
       " 547    1.357226\n",
       " 548    0.285553\n",
       " 549    0.421942\n",
       " Name: value, dtype: float64,\n",
       " array(['no trend', 'decreasing', 'decreasing', 'decreasing', 'no trend',\n",
       "        'increasing', 'increasing', 'increasing', 'no trend', 'decreasing'],\n",
       "       dtype='<U32'))"
      ]
     },
     "execution_count": 57,
     "metadata": {},
     "output_type": "execute_result"
    }
   ],
   "source": [
    "win_data, win_trend[-10:]"
   ]
  },
  {
   "cell_type": "code",
   "execution_count": 58,
   "metadata": {},
   "outputs": [],
   "source": [
    "# Traversing the trend of each pane\n",
    "for i in range(1,win_trend.shape[0]):\n",
    "    # The previous one is not increasing, and the current is increasing, indicating that this is a mutation point\n",
    "    if win_trend[i] == 'increasing' and win_trend[i-1]!='increasing':\n",
    "        win_change = np.append(win_change,win_start_index[i-1])\n",
    "    elif win_trend[i] == 'decreasing' and win_trend[i-1]!='decreasing':\n",
    "        win_change = np.append(win_change,win_start_index[i-1])\n"
   ]
  },
  {
   "cell_type": "code",
   "execution_count": 59,
   "metadata": {},
   "outputs": [
    {
     "data": {
      "text/plain": [
       "array([ 20.,  50.,  70.,  90., 110., 130., 150., 170., 190., 215., 235.,\n",
       "       255., 280., 305., 330., 350., 370., 390., 410., 435., 455., 475.,\n",
       "       495., 515., 535.])"
      ]
     },
     "execution_count": 59,
     "metadata": {},
     "output_type": "execute_result"
    }
   ],
   "source": [
    "win_change"
   ]
  },
  {
   "cell_type": "code",
   "execution_count": 60,
   "metadata": {},
   "outputs": [],
   "source": [
    "win_change = win_change + win_size/2"
   ]
  },
  {
   "cell_type": "code",
   "execution_count": 61,
   "metadata": {},
   "outputs": [
    {
     "data": {
      "text/plain": [
       "array([ 25.,  55.,  75.,  95., 115., 135., 155., 175., 195., 220., 240.,\n",
       "       260., 285., 310., 335., 355., 375., 395., 415., 440., 460., 480.,\n",
       "       500., 520., 540.])"
      ]
     },
     "execution_count": 61,
     "metadata": {},
     "output_type": "execute_result"
    }
   ],
   "source": [
    "win_change"
   ]
  },
  {
   "cell_type": "code",
   "execution_count": 62,
   "metadata": {},
   "outputs": [],
   "source": [
    "win_change = win_change.astype(np.int32)\n",
    "win_change = np.insert(win_change,0,0)\n",
    "win_change = np.append(win_change,data.shape[0]-1)"
   ]
  },
  {
   "cell_type": "code",
   "execution_count": 63,
   "metadata": {},
   "outputs": [
    {
     "data": {
      "text/plain": [
       "array([  0,  25,  55,  75,  95, 115, 135, 155, 175, 195, 220, 240, 260,\n",
       "       285, 310, 335, 355, 375, 395, 415, 440, 460, 480, 500, 520, 540,\n",
       "       553])"
      ]
     },
     "execution_count": 63,
     "metadata": {},
     "output_type": "execute_result"
    }
   ],
   "source": [
    "win_change"
   ]
  },
  {
   "cell_type": "code",
   "execution_count": 65,
   "metadata": {},
   "outputs": [],
   "source": [
    "variance = np.var(np.diff(win_change))"
   ]
  },
  {
   "cell_type": "code",
   "execution_count": 66,
   "metadata": {},
   "outputs": [
    {
     "data": {
      "text/plain": [
       "np.float64(9.88905325443787)"
      ]
     },
     "execution_count": 66,
     "metadata": {},
     "output_type": "execute_result"
    }
   ],
   "source": [
    "variance"
   ]
  },
  {
   "cell_type": "code",
   "execution_count": null,
   "metadata": {},
   "outputs": [],
   "source": []
  }
 ],
 "metadata": {
  "kernelspec": {
   "display_name": "pyenv",
   "language": "python",
   "name": "python3"
  },
  "language_info": {
   "codemirror_mode": {
    "name": "ipython",
    "version": 3
   },
   "file_extension": ".py",
   "mimetype": "text/x-python",
   "name": "python",
   "nbconvert_exporter": "python",
   "pygments_lexer": "ipython3",
   "version": "3.11.9"
  }
 },
 "nbformat": 4,
 "nbformat_minor": 2
}
