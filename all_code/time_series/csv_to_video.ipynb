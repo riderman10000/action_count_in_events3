{
 "cells": [
  {
   "cell_type": "markdown",
   "id": "880723a1",
   "metadata": {},
   "source": [
    "# Event point to pictures\n",
    "> Draw a group of pictures with 2,000 incident points, and synthesize video with a standard of 15 frame rate 15"
   ]
  },
  {
   "cell_type": "code",
   "execution_count": 1,
   "id": "92fdda99",
   "metadata": {},
   "outputs": [],
   "source": [
    "def create_folder_if_not_exists(folder_path):\n",
    "    # Use os.path.exist() to check whether the path exists\n",
    "    if not os.path.exists(folder_path):\n",
    "        # If the path does not exist, use os.makedirs() to create a folder\n",
    "        os.makedirs(folder_path)"
   ]
  },
  {
   "cell_type": "code",
   "execution_count": 2,
   "id": "39b93dcc",
   "metadata": {},
   "outputs": [],
   "source": [
    "def draw_and_save(x,y,pic_path):\n",
    "    plt.figure(figsize=(10,6),dpi=100)\n",
    "    plt.xlim(0,128)\n",
    "    plt.ylim(128,0)\n",
    "    plt.axis('off')\n",
    "    plt.scatter(x,y,s=1)\n",
    "    plt.savefig(pic_path)\n",
    "    plt.close()"
   ]
  },
  {
   "cell_type": "code",
   "execution_count": 3,
   "id": "fdab2a82",
   "metadata": {},
   "outputs": [],
   "source": [
    "def event_to_pic(file_name,event_count=2000):\n",
    "    # Create a folder of the same name\n",
    "    create_folder_if_not_exists(f'../../video/artificial/{file_name}/')\n",
    "    df = pd.read_csv(f'../../event_csv/split_data/artificial/{file_name}.csv')\n",
    "    start = 0\n",
    "    end = event_count\n",
    "    count = 1\n",
    "    # Explain that it has not been traveled yet\n",
    "    while end < df.shape[0]:\n",
    "        # Do not take time stamp\n",
    "        temp = df.iloc[start:end,1:3]\n",
    "        draw_and_save(temp['x'],temp['y'],f'../../video/artificial/{file_name}/{count}.jpg')\n",
    "        start = end\n",
    "        end = end + event_count\n",
    "        count = count + 1 \n",
    "    temp = df.iloc[start:,1:3]\n",
    "    draw_and_save(temp['x'],temp['y'],f'../../video/artificial/{file_name}/{count}.jpg')"
   ]
  },
  {
   "cell_type": "markdown",
   "id": "b8b2ef1d",
   "metadata": {},
   "source": [
    "# Picture transfer video"
   ]
  },
  {
   "cell_type": "code",
   "execution_count": 4,
   "id": "376d81d2",
   "metadata": {},
   "outputs": [],
   "source": [
    "import cv2 \n",
    "import os\n",
    "def sort_key(item):\n",
    "    return int(item[:-4])\n",
    "def pic_to_video(images_folder,output_video):\n",
    "    # Get all the picture files in the folder\n",
    "    image_files = [f for f in os.listdir(images_folder) if f.endswith('.jpg')]\n",
    "    image_files = sorted(image_files,key=sort_key)\n",
    "    # Get the size of the first picture, as the size of the video frame\n",
    "    first_image = cv2.imread(os.path.join(images_folder, image_files[0]))\n",
    "    frame_size = (first_image.shape[1], first_image.shape[0])\n",
    "\n",
    "    # Set video parameters\n",
    "    fourcc = cv2.VideoWriter_fourcc(*'XVID')\n",
    "    fps = 15\n",
    "\n",
    "    # Create video writing objects\n",
    "    out = cv2.VideoWriter(output_video, fourcc, fps, frame_size)\n",
    "\n",
    "    # Traversen the picture file, write each picture to the video\n",
    "    for image_file in image_files:\n",
    "        image_path = os.path.join(images_folder, image_file)\n",
    "        frame = cv2.imread(image_path)\n",
    "        out.write(frame)\n",
    "    # Release resources\n",
    "    out.release()\n",
    "    cv2.destroyAllWindows()"
   ]
  }
 ],
 "metadata": {
  "kernelspec": {
   "display_name": "Python 3 (ipykernel)",
   "language": "python",
   "name": "python3"
  },
  "language_info": {
   "codemirror_mode": {
    "name": "ipython",
    "version": 3
   },
   "file_extension": ".py",
   "mimetype": "text/x-python",
   "name": "python",
   "nbconvert_exporter": "python",
   "pygments_lexer": "ipython3",
   "version": "3.11.9"
  },
  "toc": {
   "base_numbering": 1,
   "nav_menu": {},
   "number_sections": true,
   "sideBar": true,
   "skip_h1_title": false,
   "title_cell": "Table of Contents",
   "title_sidebar": "Contents",
   "toc_cell": false,
   "toc_position": {},
   "toc_section_display": true,
   "toc_window_display": false
  }
 },
 "nbformat": 4,
 "nbformat_minor": 5
}
