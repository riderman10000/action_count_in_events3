{
 "cells": [
  {
   "cell_type": "markdown",
   "id": "8234b928",
   "metadata": {},
   "source": [
    "\n",
    "<p> Randomly select a single action in Class2 as A. The A here is the second repeat action of Class2 in User02_fluorescent </p>\n",
    "<p> Class7's single action B as action B. The B here is the 7th repeat action of Class7 in user02_fluorescent </p>\n",
    "<p> A5 represents the synthesis of the action A 5 times; the A3_B7 action a first synthesizes 3 times and then continues to synthesize 7 times; </p>\n",
    "<p> A3_B13_A3 means that the action A synthesizes 3 times, continues to synthesize 13 times B action, and then continues to synthesize 3 times A action </p>"
   ]
  },
  {
   "cell_type": "markdown",
   "id": "2f9c6612",
   "metadata": {},
   "source": [
    "# Synthetic synthesis"
   ]
  },
  {
   "cell_type": "code",
   "execution_count": 10,
   "id": "b53461bc",
   "metadata": {},
   "outputs": [],
   "source": [
    "# The synthetic name is {file_name} .csv file action repeat_times times\n",
    "# Return to the number of single action events, which is convenient\n",
    "def get_same(file_name,repeat_times):\n",
    "    # Get a single action\n",
    "    df = pd.read_csv(f'../../event_csv/split_data/artificial/{file_name}.csv',usecols=['timestamp','x','y'])\n",
    "    # Synthetic Repeat_times times\n",
    "    df1 = df \n",
    "    for i in range(repeat_times-1):\n",
    "        df1 = pd.concat([df1, df],ignore_index=True)\n",
    "    pd.DataFrame([['timestamp','x','y']]).to_csv(\n",
    "    f'../../event_csv/split_data/artificial/{file_name}{repeat_times}.csv',\n",
    "    index=False,header=False,mode='w'\n",
    "    )\n",
    "    df1.to_csv(\n",
    "    f'../../event_csv/split_data/artificial/{file_name}{repeat_times}.csv',\n",
    "    index=False,header=False,mode='a'\n",
    "    )"
   ]
  },
  {
   "cell_type": "markdown",
   "id": "2efdb2e9",
   "metadata": {},
   "source": [
    "# Stitching before and after the same action\n"
   ]
  },
  {
   "cell_type": "code",
   "execution_count": 11,
   "id": "faf69922",
   "metadata": {},
   "outputs": [],
   "source": [
    "def get_front_or_tail(repeat_times_A,repeat_times_B):\n",
    "    # Action A\n",
    "    df_A = pd.read_csv(f'../../event_csv/split_data/artificial/a{repeat_times_A}.csv')\n",
    "    # Action B\n",
    "    df_B = pd.read_csv(f'../../event_csv/split_data/artificial/b{repeat_times_B}.csv')\n",
    "\n",
    "    pd.DataFrame([['timestamp','x','y']]).to_csv(f'../../event_csv/split_data/artificial/b{repeat_times_B}_a{repeat_times_A}.csv',\n",
    "                                     index=False,header=False,mode='w')\n",
    "    # B connected in front of A\n",
    "    pd.concat([df_B,df_A],ignore_index=True).to_csv(f'../../event_csv/split_data/artificial/b{repeat_times_B}_a{repeat_times_A}.csv',\n",
    "                                     index=False,header=False,mode='a')\n",
    "\n",
    "    pd.DataFrame([['timestamp','x','y']]).to_csv(f'../../event_csv/split_data/artificial/a{repeat_times_A}_b{repeat_times_B}.csv',\n",
    "                                     index=False,header=False,mode='w')\n",
    "    # B connected behind A\n",
    "    pd.concat([df_A,df_B],ignore_index=True).to_csv(f'../../event_csv/split_data/artificial/a{repeat_times_A}_b{repeat_times_B}.csv',\n",
    "                                         index=False,header=False,mode='a')"
   ]
  },
  {
   "cell_type": "code",
   "execution_count": 24,
   "id": "44cb9866",
   "metadata": {},
   "outputs": [],
   "source": [
    "# FLAG is True, the B action is sandwiched in the middle.\n",
    "def get_mid(repeat_times_A,repeat_times_B,flag=True):\n",
    "    if repeat_times_A == 1:\n",
    "        repeat_times_A = ''\n",
    "    if repeat_times_B == 1:\n",
    "        repeat_times_B = ''\n",
    "    # Action A\n",
    "    df_A = pd.read_csv(f'../../event_csv/split_data/artificial/a{repeat_times_A}.csv')\n",
    "    # Action B\n",
    "    df_B = pd.read_csv(f'../../event_csv/split_data/artificial/b{repeat_times_B}.csv')\n",
    "    if flag:\n",
    "        pd.DataFrame([['timestamp','x','y']]).to_csv(\n",
    "            f'../../event_csv/split_data/artificial/a{repeat_times_A}_b{repeat_times_B}_a{repeat_times_A}.csv',\n",
    "            index=False,header=False,mode='w')\n",
    "        pd.concat([df_A,df_B,df_A],ignore_index=True).to_csv(\n",
    "            f'../../event_csv/split_data/artificial/a{repeat_times_A}_b{repeat_times_B}_a{repeat_times_A}.csv',\n",
    "            index=False,header=False,mode='a')\n",
    "    else:\n",
    "        pd.DataFrame([['timestamp','x','y']]).to_csv(\n",
    "            f'../../event_csv/split_data/artificial/b{repeat_times_B}_a{repeat_times_A}_b{repeat_times_B}.csv',\n",
    "            index=False,header=False,mode='w')\n",
    "        pd.concat([df_B,df_A,df_B],ignore_index=True).to_csv(\n",
    "            f'../../event_csv/split_data/artificial/b{repeat_times_B}_a{repeat_times_A}_b{repeat_times_B}.csv',\n",
    "            index=False,header=False,mode='a')"
   ]
  }
 ],
 "metadata": {
  "kernelspec": {
   "display_name": "Python 3 (ipykernel)",
   "language": "python",
   "name": "python3"
  },
  "language_info": {
   "codemirror_mode": {
    "name": "ipython",
    "version": 3
   },
   "file_extension": ".py",
   "mimetype": "text/x-python",
   "name": "python",
   "nbconvert_exporter": "python",
   "pygments_lexer": "ipython3",
   "version": "3.11.4"
  },
  "toc": {
   "base_numbering": 1,
   "nav_menu": {},
   "number_sections": true,
   "sideBar": true,
   "skip_h1_title": false,
   "title_cell": "Table of Contents",
   "title_sidebar": "Contents",
   "toc_cell": false,
   "toc_position": {},
   "toc_section_display": true,
   "toc_window_display": false
  }
 },
 "nbformat": 4,
 "nbformat_minor": 5
}
