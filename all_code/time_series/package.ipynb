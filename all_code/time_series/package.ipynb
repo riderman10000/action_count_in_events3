{
 "cells": [
  {
   "cell_type": "code",
   "execution_count": 1,
   "id": "eaa87d6b",
   "metadata": {},
   "outputs": [],
   "source": [
    "import os\n",
    "import cv2\n",
    "import matplotlib.pyplot as plt\n",
    "from matplotlib.font_manager import FontProperties\n",
    "import numpy as np\n",
    "import pandas as pd\n",
    "import scipy.spatial.distance as dist\n",
    "from scipy.stats import kurtosis, skew\n",
    "from pylab import mpl \n",
    "import pymannkendall as mk\n",
    "import statsmodels.api as sm\n",
    "from fastdtw import fastdtw\n",
    "from sklearn.decomposition import PCA\n",
    "# Set font\n",
    "mpl.rcParams[\"font.sans-serif\"] = [\"SimHei\"]\n",
    "# Solve the problem of negative sign display\n",
    "plt.rcParams['axes.unicode_minus'] = False\n",
    "# Set the width of the coordinate axis\n",
    "plt.rcParams['axes.linewidth'] = 2"
   ]
  }
 ],
 "metadata": {
  "kernelspec": {
   "display_name": "Python 3 (ipykernel)",
   "language": "python",
   "name": "python3"
  },
  "language_info": {
   "codemirror_mode": {
    "name": "ipython",
    "version": 3
   },
   "file_extension": ".py",
   "mimetype": "text/x-python",
   "name": "python",
   "nbconvert_exporter": "python",
   "pygments_lexer": "ipython3",
   "version": "3.11.9"
  },
  "toc": {
   "base_numbering": 1,
   "nav_menu": {},
   "number_sections": true,
   "sideBar": true,
   "skip_h1_title": false,
   "title_cell": "Table of Contents",
   "title_sidebar": "Contents",
   "toc_cell": false,
   "toc_position": {},
   "toc_section_display": true,
   "toc_window_display": false
  }
 },
 "nbformat": 4,
 "nbformat_minor": 5
}
