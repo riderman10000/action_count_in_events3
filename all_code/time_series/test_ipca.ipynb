{
 "cells": [
  {
   "cell_type": "code",
   "execution_count": 3,
   "metadata": {},
   "outputs": [],
   "source": [
    "import os \n",
    "import sys \n",
    "import cv2 \n",
    "import matplotlib.pyplot as plt \n",
    "from matplotlib.font_manager import FontProperties\n",
    "import numpy as np \n",
    "import pandas as pd \n",
    "import scipy.spatial.distance as dist \n",
    "from scipy.stats import kurtosis, skew \n",
    "from pylab import mpl \n",
    "import pymannkendall as mk \n",
    "import statsmodels.api as sm \n",
    "from fastdtw import fastdtw \n",
    "from sklearn.decomposition import PCA \n",
    "\n",
    "# set font \n",
    "# mpl.rcParams['font.sans-serif'] = [\"SimHei\"]\n",
    "# # solve the problem of negative sign display \n",
    "# plt.rcParams['axes.unicode_minus'] = False \n",
    "# # set the width of the coordinate axis \n",
    "# plt.rcParams['axes.linewidth'] = 2"
   ]
  },
  {
   "cell_type": "code",
   "execution_count": 4,
   "metadata": {},
   "outputs": [],
   "source": [
    "# variables\n",
    "# get natural data file name \n",
    "file_names = os.listdir(\"../../event_csv/split_data/class2/\")\n",
    "# get artificial data file name \n",
    "files = os.listdir('../../event_csv/split_data/artificial/')\n",
    "\n",
    "# true data of the original data \n",
    "nature_real_count = np.load('../npy_file/nature_data_real_count.npy')\n",
    "# artificial data real count tag \n",
    "artificial_real_count = np.load('../npy_file/artificial_data_real_count.npy')\n",
    "\n",
    "# repnet network's predicitve label on original data \n",
    "repnet_nature_pred_count = np.load('../npy_file/repnet_nature_data_real_count.npy')\n",
    "# repnet network's prediction label on artificial syntheic data \n",
    "repnet_artificial_pred_count = np.load('../npy_file/repnet_artificial_data_real_count.npy')\n"
   ]
  },
  {
   "cell_type": "code",
   "execution_count": 5,
   "metadata": {},
   "outputs": [],
   "source": [
    "sys.path.append('../') # going a step back so the importer can find the following module\n",
    "from time_series_scripts import artificial_data_compose "
   ]
  },
  {
   "cell_type": "code",
   "execution_count": 6,
   "metadata": {},
   "outputs": [
    {
     "name": "stdout",
     "output_type": "stream",
     "text": [
      "user02_lab.csv\n"
     ]
    },
    {
     "data": {
      "text/plain": [
       "(      x      y\n",
       " 0  22.4  57.00\n",
       " 1  25.0  64.00\n",
       " 2  24.0  53.75\n",
       " 3  27.0  75.00\n",
       " 4  22.8  54.40,\n",
       " (55344, 2))"
      ]
     },
     "execution_count": 6,
     "metadata": {},
     "output_type": "execute_result"
    }
   ],
   "source": [
    "class_num = 2 \n",
    "file_name = file_names[0]\n",
    "print(file_name)\n",
    "df = pd.read_csv(f'../../event_csv/compress_event_manhattan/class{class_num}/{file_name}')\n",
    "df.head(), df.shape\n"
   ]
  },
  {
   "cell_type": "code",
   "execution_count": 7,
   "metadata": {},
   "outputs": [],
   "source": [
    "# intermediate pca method\n",
    "from sklearn.decomposition import PCA, IncrementalPCA\n",
    "data = df.values"
   ]
  },
  {
   "cell_type": "code",
   "execution_count": 8,
   "metadata": {},
   "outputs": [],
   "source": [
    "ipca = IncrementalPCA(n_components=1, batch_size=1000)\n",
    "pca = PCA(n_components=1) \n",
    "\n",
    "ipca_data = ipca.fit_transform(data)\n",
    "pca_data = pca.fit_transform(data) "
   ]
  },
  {
   "cell_type": "code",
   "execution_count": 9,
   "metadata": {},
   "outputs": [
    {
     "data": {
      "text/plain": [
       "(IncrementalPCA(batch_size=1000, n_components=1), PCA(n_components=1))"
      ]
     },
     "execution_count": 9,
     "metadata": {},
     "output_type": "execute_result"
    }
   ],
   "source": [
    "ipca, pca "
   ]
  },
  {
   "cell_type": "code",
   "execution_count": 10,
   "metadata": {},
   "outputs": [
    {
     "data": {
      "text/plain": [
       "(array([[-10.23873309],\n",
       "        [ -2.97798331],\n",
       "        [-12.04482832],\n",
       "        ...,\n",
       "        [ 15.34660293],\n",
       "        [ -3.64151352],\n",
       "        [ -7.94694349]]),\n",
       " array([[ -9.86482711],\n",
       "        [ -2.53114539],\n",
       "        [-11.8143126 ],\n",
       "        ...,\n",
       "        [ 15.50710617],\n",
       "        [ -3.60481318],\n",
       "        [ -7.81644936]]))"
      ]
     },
     "execution_count": 10,
     "metadata": {},
     "output_type": "execute_result"
    }
   ],
   "source": [
    "ipca_data, pca_data"
   ]
  },
  {
   "cell_type": "code",
   "execution_count": 11,
   "metadata": {},
   "outputs": [],
   "source": [
    "diff_df = pd.DataFrame(ipca_data - pca_data)"
   ]
  },
  {
   "cell_type": "code",
   "execution_count": 12,
   "metadata": {},
   "outputs": [
    {
     "data": {
      "text/html": [
       "<div>\n",
       "<style scoped>\n",
       "    .dataframe tbody tr th:only-of-type {\n",
       "        vertical-align: middle;\n",
       "    }\n",
       "\n",
       "    .dataframe tbody tr th {\n",
       "        vertical-align: top;\n",
       "    }\n",
       "\n",
       "    .dataframe thead th {\n",
       "        text-align: right;\n",
       "    }\n",
       "</style>\n",
       "<table border=\"1\" class=\"dataframe\">\n",
       "  <thead>\n",
       "    <tr style=\"text-align: right;\">\n",
       "      <th></th>\n",
       "      <th>0</th>\n",
       "    </tr>\n",
       "  </thead>\n",
       "  <tbody>\n",
       "    <tr>\n",
       "      <th>count</th>\n",
       "      <td>5.534400e+04</td>\n",
       "    </tr>\n",
       "    <tr>\n",
       "      <th>mean</th>\n",
       "      <td>2.683793e-15</td>\n",
       "    </tr>\n",
       "    <tr>\n",
       "      <th>std</th>\n",
       "      <td>3.306790e-01</td>\n",
       "    </tr>\n",
       "    <tr>\n",
       "      <th>min</th>\n",
       "      <td>-2.675351e+00</td>\n",
       "    </tr>\n",
       "    <tr>\n",
       "      <th>25%</th>\n",
       "      <td>-2.268368e-01</td>\n",
       "    </tr>\n",
       "    <tr>\n",
       "      <th>50%</th>\n",
       "      <td>2.137769e-02</td>\n",
       "    </tr>\n",
       "    <tr>\n",
       "      <th>75%</th>\n",
       "      <td>2.426648e-01</td>\n",
       "    </tr>\n",
       "    <tr>\n",
       "      <th>max</th>\n",
       "      <td>3.435899e+00</td>\n",
       "    </tr>\n",
       "  </tbody>\n",
       "</table>\n",
       "</div>"
      ],
      "text/plain": [
       "                  0\n",
       "count  5.534400e+04\n",
       "mean   2.683793e-15\n",
       "std    3.306790e-01\n",
       "min   -2.675351e+00\n",
       "25%   -2.268368e-01\n",
       "50%    2.137769e-02\n",
       "75%    2.426648e-01\n",
       "max    3.435899e+00"
      ]
     },
     "execution_count": 12,
     "metadata": {},
     "output_type": "execute_result"
    }
   ],
   "source": [
    "diff_df.describe()"
   ]
  },
  {
   "cell_type": "code",
   "execution_count": 13,
   "metadata": {},
   "outputs": [],
   "source": [
    "pca_df = pd.DataFrame(pca_data)\n",
    "ipca_df = pd.DataFrame(ipca_data)"
   ]
  },
  {
   "cell_type": "code",
   "execution_count": 14,
   "metadata": {},
   "outputs": [
    {
     "data": {
      "text/plain": [
       "<Axes: >"
      ]
     },
     "execution_count": 14,
     "metadata": {},
     "output_type": "execute_result"
    },
    {
     "data": {
      "image/png": "[encoded data removed]",
      "text/plain": [
       "<Figure size 640x480 with 1 Axes>"
      ]
     },
     "metadata": {},
     "output_type": "display_data"
    },
    {
     "data": {
      "image/png": "[encoded data removed]",
      "text/plain": [
       "<Figure size 640x480 with 1 Axes>"
      ]
     },
     "metadata": {},
     "output_type": "display_data"
    }
   ],
   "source": [
    "pca_df.plot()\n",
    "ipca_df.plot()"
   ]
  },
  {
   "cell_type": "code",
   "execution_count": 15,
   "metadata": {},
   "outputs": [
    {
     "name": "stdout",
     "output_type": "stream",
     "text": [
      "(5000, 1) (5000, 1)\n",
      "(5000, 1) (10000, 1)\n",
      "(5000, 1) (15000, 1)\n",
      "(5000, 1) (20000, 1)\n",
      "(5000, 1) (25000, 1)\n",
      "(5000, 1) (30000, 1)\n",
      "(5000, 1) (35000, 1)\n",
      "(5000, 1) (40000, 1)\n",
      "(5000, 1) (45000, 1)\n",
      "(5000, 1) (50000, 1)\n",
      "(5000, 1) (55000, 1)\n",
      "(344, 1) (60000, 1)\n"
     ]
    }
   ],
   "source": [
    "def load_data_chunk(file_path, chunk_size = 1000):\n",
    "    for chunk in pd.read_csv(file_path, chunksize=chunk_size):\n",
    "        yield chunk.values\n",
    "        \n",
    "class_num = 2 \n",
    "file_name = file_names[0]\n",
    "file_path = f'../../event_csv/compress_event_manhattan/class{class_num}/{file_name}'\n",
    "\n",
    "n_components = 1 \n",
    "ipca = IncrementalPCA(n_components= n_components)\n",
    "\n",
    "chunk_size = 5000 \n",
    "\n",
    "for data_chunk in load_data_chunk(file_path, chunk_size):\n",
    "    ipca.partial_fit(data_chunk)\n",
    "\n",
    "# at this point, IPCA has been fitted incrementally \n",
    "# to transform data using the learned componenets \n",
    "\n",
    "partial_ipca_df = None\n",
    "for data_chunk in load_data_chunk(file_path, chunk_size):\n",
    "    transformed_data = ipca.transform(data_chunk) \n",
    "    transformed_data_df = pd.DataFrame(transformed_data)\n",
    "    if type(partial_ipca_df) == type(None):\n",
    "        partial_ipca_df = transformed_data_df     \n",
    "    print(transformed_data_df.shape, partial_ipca_df.shape)\n",
    "    partial_ipca_df = pd.concat([partial_ipca_df, transformed_data_df])\n"
   ]
  },
  {
   "cell_type": "code",
   "execution_count": 16,
   "metadata": {},
   "outputs": [
    {
     "data": {
      "text/html": [
       "<div>\n",
       "<style scoped>\n",
       "    .dataframe tbody tr th:only-of-type {\n",
       "        vertical-align: middle;\n",
       "    }\n",
       "\n",
       "    .dataframe tbody tr th {\n",
       "        vertical-align: top;\n",
       "    }\n",
       "\n",
       "    .dataframe thead th {\n",
       "        text-align: right;\n",
       "    }\n",
       "</style>\n",
       "<table border=\"1\" class=\"dataframe\">\n",
       "  <thead>\n",
       "    <tr style=\"text-align: right;\">\n",
       "      <th></th>\n",
       "      <th>0</th>\n",
       "    </tr>\n",
       "  </thead>\n",
       "  <tbody>\n",
       "    <tr>\n",
       "      <th>0</th>\n",
       "      <td>-10.113540</td>\n",
       "    </tr>\n",
       "    <tr>\n",
       "      <th>1</th>\n",
       "      <td>-2.826139</td>\n",
       "    </tr>\n",
       "    <tr>\n",
       "      <th>2</th>\n",
       "      <td>-11.969027</td>\n",
       "    </tr>\n",
       "    <tr>\n",
       "      <th>3</th>\n",
       "      <td>7.490220</td>\n",
       "    </tr>\n",
       "    <tr>\n",
       "      <th>4</th>\n",
       "      <td>-12.076920</td>\n",
       "    </tr>\n",
       "    <tr>\n",
       "      <th>...</th>\n",
       "      <td>...</td>\n",
       "    </tr>\n",
       "    <tr>\n",
       "      <th>339</th>\n",
       "      <td>-6.351397</td>\n",
       "    </tr>\n",
       "    <tr>\n",
       "      <th>340</th>\n",
       "      <td>-3.652286</td>\n",
       "    </tr>\n",
       "    <tr>\n",
       "      <th>341</th>\n",
       "      <td>15.405101</td>\n",
       "    </tr>\n",
       "    <tr>\n",
       "      <th>342</th>\n",
       "      <td>-3.629861</td>\n",
       "    </tr>\n",
       "    <tr>\n",
       "      <th>343</th>\n",
       "      <td>-7.904305</td>\n",
       "    </tr>\n",
       "  </tbody>\n",
       "</table>\n",
       "<p>60344 rows × 1 columns</p>\n",
       "</div>"
      ],
      "text/plain": [
       "             0\n",
       "0   -10.113540\n",
       "1    -2.826139\n",
       "2   -11.969027\n",
       "3     7.490220\n",
       "4   -12.076920\n",
       "..         ...\n",
       "339  -6.351397\n",
       "340  -3.652286\n",
       "341  15.405101\n",
       "342  -3.629861\n",
       "343  -7.904305\n",
       "\n",
       "[60344 rows x 1 columns]"
      ]
     },
     "execution_count": 16,
     "metadata": {},
     "output_type": "execute_result"
    }
   ],
   "source": [
    "partial_ipca_df"
   ]
  },
  {
   "cell_type": "markdown",
   "metadata": {},
   "source": [
    "# hp filter test"
   ]
  },
  {
   "cell_type": "markdown",
   "metadata": {},
   "source": [
    "1. apply hp filter in overlapping chunks"
   ]
  },
  {
   "cell_type": "code",
   "execution_count": 17,
   "metadata": {},
   "outputs": [],
   "source": [
    "import numpy as np \n",
    "from statsmodels.tsa.filters.hp_filter import hpfilter \n",
    "\n",
    "def apply_hp_filter_in_chunks(data, chunk_size, overlap_size, lamb = 1600):\n",
    "    n = len(data)\n",
    "    filtered_data = [] \n",
    "    for i in range(0, n, chunk_size - overlap_size):\n",
    "        chunk_end = min(i + chunk_size, n) \n",
    "        chunk = data[0 : chunk_end]\n",
    "        if len(chunk) > 1:\n",
    "            trend, cycle = hpfilter(chunk, lamb)\n",
    "            if i == 0 : \n",
    "                filtered_data.extend(trend[: chunk_size - overlap_size])\n",
    "            else: \n",
    "                filtered_data.extend(trend[overlap_size:chunk_size - overlap_size])\n",
    "    \n",
    "    return np.array(filtered_data)"
   ]
  },
  {
   "cell_type": "code",
   "execution_count": null,
   "metadata": {},
   "outputs": [],
   "source": []
  },
  {
   "cell_type": "code",
   "execution_count": 34,
   "metadata": {},
   "outputs": [],
   "source": [
    "after_pca = apply_hp_filter_in_chunks(pca_df.values, chunk_size=10000, overlap_size=100)"
   ]
  },
  {
   "cell_type": "code",
   "execution_count": 35,
   "metadata": {},
   "outputs": [
    {
     "data": {
      "text/plain": [
       "array([-2.21845144,  4.9011543 , -4.59470237, ..., 23.27938935,\n",
       "       -6.33559959, -0.53538331])"
      ]
     },
     "execution_count": 35,
     "metadata": {},
     "output_type": "execute_result"
    }
   ],
   "source": [
    "after_pca"
   ]
  },
  {
   "cell_type": "code",
   "execution_count": 36,
   "metadata": {},
   "outputs": [
    {
     "data": {
      "text/html": [
       "<div>\n",
       "<style scoped>\n",
       "    .dataframe tbody tr th:only-of-type {\n",
       "        vertical-align: middle;\n",
       "    }\n",
       "\n",
       "    .dataframe tbody tr th {\n",
       "        vertical-align: top;\n",
       "    }\n",
       "\n",
       "    .dataframe thead th {\n",
       "        text-align: right;\n",
       "    }\n",
       "</style>\n",
       "<table border=\"1\" class=\"dataframe\">\n",
       "  <thead>\n",
       "    <tr style=\"text-align: right;\">\n",
       "      <th></th>\n",
       "      <th>0</th>\n",
       "    </tr>\n",
       "  </thead>\n",
       "  <tbody>\n",
       "    <tr>\n",
       "      <th>count</th>\n",
       "      <td>58900.000000</td>\n",
       "    </tr>\n",
       "    <tr>\n",
       "      <th>mean</th>\n",
       "      <td>-0.000941</td>\n",
       "    </tr>\n",
       "    <tr>\n",
       "      <th>std</th>\n",
       "      <td>8.187265</td>\n",
       "    </tr>\n",
       "    <tr>\n",
       "      <th>min</th>\n",
       "      <td>-17.410698</td>\n",
       "    </tr>\n",
       "    <tr>\n",
       "      <th>25%</th>\n",
       "      <td>-5.444515</td>\n",
       "    </tr>\n",
       "    <tr>\n",
       "      <th>50%</th>\n",
       "      <td>-1.853320</td>\n",
       "    </tr>\n",
       "    <tr>\n",
       "      <th>75%</th>\n",
       "      <td>3.442484</td>\n",
       "    </tr>\n",
       "    <tr>\n",
       "      <th>max</th>\n",
       "      <td>68.910174</td>\n",
       "    </tr>\n",
       "  </tbody>\n",
       "</table>\n",
       "</div>"
      ],
      "text/plain": [
       "                  0\n",
       "count  58900.000000\n",
       "mean      -0.000941\n",
       "std        8.187265\n",
       "min      -17.410698\n",
       "25%       -5.444515\n",
       "50%       -1.853320\n",
       "75%        3.442484\n",
       "max       68.910174"
      ]
     },
     "execution_count": 36,
     "metadata": {},
     "output_type": "execute_result"
    }
   ],
   "source": [
    "temp_df = pd.DataFrame(after_pca)\n",
    "temp_df.describe()"
   ]
  },
  {
   "cell_type": "code",
   "execution_count": null,
   "metadata": {},
   "outputs": [],
   "source": []
  }
 ],
 "metadata": {
  "kernelspec": {
   "display_name": "pyenv",
   "language": "python",
   "name": "python3"
  },
  "language_info": {
   "codemirror_mode": {
    "name": "ipython",
    "version": 3
   },
   "file_extension": ".py",
   "mimetype": "text/x-python",
   "name": "python",
   "nbconvert_exporter": "python",
   "pygments_lexer": "ipython3",
   "version": "3.11.9"
  }
 },
 "nbformat": 4,
 "nbformat_minor": 2
}
