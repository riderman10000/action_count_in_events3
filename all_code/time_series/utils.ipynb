{
 "cells": [
  {
   "cell_type": "code",
   "execution_count": 2,
   "id": "e3619621",
   "metadata": {},
   "outputs": [],
   "source": [
    "import pandas as pd\n",
    "import statsmodels.api as sm\n",
    "import matplotlib.pyplot as plt"
   ]
  },
  {
   "cell_type": "code",
   "execution_count": 7,
   "id": "7b1a6e13",
   "metadata": {},
   "outputs": [],
   "source": [
    "# Smooth compression of the average value per NUM element\n",
    "def mean_compress(series,num=100):\n",
    "    temp = pd.DataFrame(series)\n",
    "    temp['group'] = temp.index//num\n",
    "    temp = temp.groupby(['group']).mean()\n",
    "    temp.columns = ['y']\n",
    "    return temp"
   ]
  },
  {
   "cell_type": "code",
   "execution_count": 8,
   "id": "7cc2eed6",
   "metadata": {},
   "outputs": [],
   "source": [
    "# HP filtering and drawing\n",
    "def hp_filter(series):\n",
    "    _, smooth_x = sm.tsa.filters.hpfilter(series)\n",
    "    return smooth_x"
   ]
  },
  {
   "cell_type": "code",
   "execution_count": null,
   "id": "da69ec1c",
   "metadata": {},
   "outputs": [],
   "source": [
    "def draw_time_series(series):\n",
    "    plt.figure(figsize=(30,12))\n",
    "    plt.plot(range(series.shape[0]),series)\n",
    "    plt.show()"
   ]
  }
 ],
 "metadata": {
  "kernelspec": {
   "display_name": "Python 3 (ipykernel)",
   "language": "python",
   "name": "python3"
  },
  "language_info": {
   "codemirror_mode": {
    "name": "ipython",
    "version": 3
   },
   "file_extension": ".py",
   "mimetype": "text/x-python",
   "name": "python",
   "nbconvert_exporter": "python",
   "pygments_lexer": "ipython3",
   "version": "3.11.4"
  },
  "toc": {
   "base_numbering": 1,
   "nav_menu": {},
   "number_sections": true,
   "sideBar": true,
   "skip_h1_title": false,
   "title_cell": "Table of Contents",
   "title_sidebar": "Contents",
   "toc_cell": false,
   "toc_position": {},
   "toc_section_display": true,
   "toc_window_display": false
  }
 },
 "nbformat": 4,
 "nbformat_minor": 5
}
